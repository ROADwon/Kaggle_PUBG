{
 "cells": [
  {
   "cell_type": "code",
   "execution_count": 1,
   "id": "d558a874",
   "metadata": {
    "_cell_guid": "b1076dfc-b9ad-4769-8c92-a6c4dae69d19",
    "_uuid": "8f2839f25d086af736a60e9eeb907d3b93b6e0e5",
    "execution": {
     "iopub.execute_input": "2022-12-06T08:08:55.113280Z",
     "iopub.status.busy": "2022-12-06T08:08:55.112772Z",
     "iopub.status.idle": "2022-12-06T08:08:55.124826Z",
     "shell.execute_reply": "2022-12-06T08:08:55.122832Z"
    },
    "papermill": {
     "duration": 0.022065,
     "end_time": "2022-12-06T08:08:55.127508",
     "exception": false,
     "start_time": "2022-12-06T08:08:55.105443",
     "status": "completed"
    },
    "tags": []
   },
   "outputs": [
    {
     "name": "stdout",
     "output_type": "stream",
     "text": [
      "/kaggle/input/pubg-finish-placement-prediction/train_V2.csv\n",
      "/kaggle/input/pubg-finish-placement-prediction/test_V2.csv\n",
      "/kaggle/input/pubg-finish-placement-prediction/sample_submission_V2.csv\n"
     ]
    }
   ],
   "source": [
    "## import numpy as np # linear algebra\n",
    "import pandas as pd # data processing, CSV file I/O (e.g. pd.read_csv)\n",
    "\n",
    "\n",
    "import os\n",
    "for dirname, _, filenames in os.walk('/kaggle/input'):\n",
    "    for filename in filenames:\n",
    "        print(os.path.join(dirname, filename))\n",
    "#ing \"Save & Run All\" \n",
    "# You can also write temporary files to /kaggle/temp/, but they won't be saved outside of the current session"
   ]
  },
  {
   "cell_type": "code",
   "execution_count": 2,
   "id": "79ccb719",
   "metadata": {
    "execution": {
     "iopub.execute_input": "2022-12-06T08:08:55.139190Z",
     "iopub.status.busy": "2022-12-06T08:08:55.138690Z",
     "iopub.status.idle": "2022-12-06T08:08:56.950847Z",
     "shell.execute_reply": "2022-12-06T08:08:56.949513Z"
    },
    "papermill": {
     "duration": 1.820697,
     "end_time": "2022-12-06T08:08:56.953177",
     "exception": false,
     "start_time": "2022-12-06T08:08:55.132480",
     "status": "completed"
    },
    "tags": []
   },
   "outputs": [
    {
     "data": {
      "text/html": [
       "<style type='text/css'>\n",
       ".datatable table.frame { margin-bottom: 0; }\n",
       ".datatable table.frame thead { border-bottom: none; }\n",
       ".datatable table.frame tr.coltypes td {  color: #FFFFFF;  line-height: 6px;  padding: 0 0.5em;}\n",
       ".datatable .bool    { background: #DDDD99; }\n",
       ".datatable .object  { background: #565656; }\n",
       ".datatable .int     { background: #5D9E5D; }\n",
       ".datatable .float   { background: #4040CC; }\n",
       ".datatable .str     { background: #CC4040; }\n",
       ".datatable .time    { background: #40CC40; }\n",
       ".datatable .row_index {  background: var(--jp-border-color3);  border-right: 1px solid var(--jp-border-color0);  color: var(--jp-ui-font-color3);  font-size: 9px;}\n",
       ".datatable .frame tbody td { text-align: left; }\n",
       ".datatable .frame tr.coltypes .row_index {  background: var(--jp-border-color0);}\n",
       ".datatable th:nth-child(2) { padding-left: 12px; }\n",
       ".datatable .hellipsis {  color: var(--jp-cell-editor-border-color);}\n",
       ".datatable .vellipsis {  background: var(--jp-layout-color0);  color: var(--jp-cell-editor-border-color);}\n",
       ".datatable .na {  color: var(--jp-cell-editor-border-color);  font-size: 80%;}\n",
       ".datatable .sp {  opacity: 0.25;}\n",
       ".datatable .footer { font-size: 9px; }\n",
       ".datatable .frame_dimensions {  background: var(--jp-border-color3);  border-top: 1px solid var(--jp-border-color0);  color: var(--jp-ui-font-color3);  display: inline-block;  opacity: 0.6;  padding: 1px 10px 1px 5px;}\n",
       ".datatable .frame thead tr.colnames {  background-image: url('data:image/png;base64,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');  background-repeat: repeat-x;  background-size: 14px;  height: 28px;}\n",
       "</style>\n"
      ],
      "text/plain": [
       "<IPython.core.display.HTML object>"
      ]
     },
     "metadata": {},
     "output_type": "display_data"
    }
   ],
   "source": [
    "from lightgbm import LGBMClassifier\n",
    "from sklearn.model_selection import train_test_split"
   ]
  },
  {
   "cell_type": "code",
   "execution_count": 3,
   "id": "c8949fa1",
   "metadata": {
    "execution": {
     "iopub.execute_input": "2022-12-06T08:08:56.964758Z",
     "iopub.status.busy": "2022-12-06T08:08:56.964367Z",
     "iopub.status.idle": "2022-12-06T08:09:24.119295Z",
     "shell.execute_reply": "2022-12-06T08:09:24.118215Z"
    },
    "papermill": {
     "duration": 27.163278,
     "end_time": "2022-12-06T08:09:24.121620",
     "exception": false,
     "start_time": "2022-12-06T08:08:56.958342",
     "status": "completed"
    },
    "tags": []
   },
   "outputs": [],
   "source": [
    "train = pd.read_csv(\"/kaggle/input/pubg-finish-placement-prediction/train_V2.csv\")\n",
    "test = pd.read_csv(\"/kaggle/input/pubg-finish-placement-prediction/test_V2.csv\")"
   ]
  },
  {
   "cell_type": "code",
   "execution_count": 4,
   "id": "be70d2a2",
   "metadata": {
    "execution": {
     "iopub.execute_input": "2022-12-06T08:09:24.133642Z",
     "iopub.status.busy": "2022-12-06T08:09:24.133018Z",
     "iopub.status.idle": "2022-12-06T08:09:25.682647Z",
     "shell.execute_reply": "2022-12-06T08:09:25.681360Z"
    },
    "papermill": {
     "duration": 1.558342,
     "end_time": "2022-12-06T08:09:25.685145",
     "exception": false,
     "start_time": "2022-12-06T08:09:24.126803",
     "status": "completed"
    },
    "tags": []
   },
   "outputs": [],
   "source": [
    "train.dropna(axis = 0, inplace =True)"
   ]
  },
  {
   "cell_type": "code",
   "execution_count": 5,
   "id": "cdca4953",
   "metadata": {
    "execution": {
     "iopub.execute_input": "2022-12-06T08:09:25.697303Z",
     "iopub.status.busy": "2022-12-06T08:09:25.696925Z",
     "iopub.status.idle": "2022-12-06T08:09:26.130617Z",
     "shell.execute_reply": "2022-12-06T08:09:26.129704Z"
    },
    "papermill": {
     "duration": 0.442793,
     "end_time": "2022-12-06T08:09:26.133023",
     "exception": false,
     "start_time": "2022-12-06T08:09:25.690230",
     "status": "completed"
    },
    "tags": []
   },
   "outputs": [],
   "source": [
    "label_name = 'winPlacePerc'\n",
    "X_tr_all = train.loc[:,['assists','kills','killPoints','DBNOs','killStreaks','boosts','revives','heals','matchType']]\n",
    "train = train.astype({'winPlacePerc':'int'})\n",
    "y_tr_all = train[label_name]\n",
    "\n",
    "X_last_test = test.loc[:,['assists','kills','killPoints','DBNOs','killStreaks','boosts','revives','heals','matchType']]"
   ]
  },
  {
   "cell_type": "code",
   "execution_count": 6,
   "id": "9c1d83fc",
   "metadata": {
    "execution": {
     "iopub.execute_input": "2022-12-06T08:09:26.144548Z",
     "iopub.status.busy": "2022-12-06T08:09:26.144170Z",
     "iopub.status.idle": "2022-12-06T08:09:32.808431Z",
     "shell.execute_reply": "2022-12-06T08:09:32.807539Z"
    },
    "papermill": {
     "duration": 6.672334,
     "end_time": "2022-12-06T08:09:32.810333",
     "exception": false,
     "start_time": "2022-12-06T08:09:26.137999",
     "status": "completed"
    },
    "tags": []
   },
   "outputs": [
    {
     "data": {
      "text/plain": [
       "0          41\n",
       "1          41\n",
       "2          23\n",
       "3          41\n",
       "4          11\n",
       "           ..\n",
       "4446961    41\n",
       "4446962    13\n",
       "4446963    41\n",
       "4446964    41\n",
       "4446965    11\n",
       "Name: matchType, Length: 4446965, dtype: int64"
      ]
     },
     "execution_count": 6,
     "metadata": {},
     "output_type": "execute_result"
    }
   ],
   "source": [
    "X_tr_all['matchType'] = X_tr_all['matchType'].replace({'solo-fpp':11})\n",
    "X_tr_all['matchType'] = X_tr_all['matchType'].replace({'duo-fpp':21})\n",
    "X_tr_all['matchType'] = X_tr_all['matchType'].replace({'solo':13})\n",
    "X_tr_all['matchType'] = X_tr_all['matchType'].replace({'duo':23})\n",
    "X_tr_all['matchType'] = X_tr_all['matchType'].replace({'squad':43})\n",
    "X_tr_all['matchType'] = X_tr_all['matchType'].replace({'squad-fpp':41})\n",
    "X_tr_all['matchType'] = X_tr_all['matchType'].replace({'normal-solo-fpp':110})\n",
    "X_tr_all['matchType'] = X_tr_all['matchType'].replace({'normal-duo-fpp': 210})\n",
    "X_tr_all['matchType'] = X_tr_all['matchType'].replace({'normal-squad-fpp':410})\n",
    "X_tr_all['matchType'] = X_tr_all['matchType'].replace({'normal-solo':130})\n",
    "X_tr_all['matchType'] = X_tr_all['matchType'].replace({'normal-duo':230})\n",
    "X_tr_all['matchType'] = X_tr_all['matchType'].replace({'normal-squad':430})\n",
    "X_tr_all['matchType'] = X_tr_all['matchType'].replace({'crashfpp':10})\n",
    "X_tr_all['matchType'] = X_tr_all['matchType'].replace({'crashtpp':30})\n",
    "X_tr_all['matchType'] = X_tr_all['matchType'].replace({'flarefpp':19})\n",
    "X_tr_all['matchType'] = X_tr_all['matchType'].replace({'flaretpp':39})\n",
    "X_tr_all['matchType']"
   ]
  },
  {
   "cell_type": "code",
   "execution_count": 7,
   "id": "f59f2469",
   "metadata": {
    "execution": {
     "iopub.execute_input": "2022-12-06T08:09:32.822159Z",
     "iopub.status.busy": "2022-12-06T08:09:32.821545Z",
     "iopub.status.idle": "2022-12-06T08:09:32.853573Z",
     "shell.execute_reply": "2022-12-06T08:09:32.852723Z"
    },
    "papermill": {
     "duration": 0.039922,
     "end_time": "2022-12-06T08:09:32.855371",
     "exception": false,
     "start_time": "2022-12-06T08:09:32.815449",
     "status": "completed"
    },
    "tags": []
   },
   "outputs": [
    {
     "data": {
      "text/plain": [
       "array([ 41,  23,  11,  43,  21,  13, 410,  10,  39, 110,  19, 210, 230,\n",
       "       430,  30, 130])"
      ]
     },
     "execution_count": 7,
     "metadata": {},
     "output_type": "execute_result"
    }
   ],
   "source": [
    "X_tr_all['matchType'].unique()"
   ]
  },
  {
   "cell_type": "code",
   "execution_count": 8,
   "id": "cb3b34df",
   "metadata": {
    "execution": {
     "iopub.execute_input": "2022-12-06T08:09:32.868343Z",
     "iopub.status.busy": "2022-12-06T08:09:32.867823Z",
     "iopub.status.idle": "2022-12-06T08:09:32.873265Z",
     "shell.execute_reply": "2022-12-06T08:09:32.872603Z"
    },
    "papermill": {
     "duration": 0.014661,
     "end_time": "2022-12-06T08:09:32.874973",
     "exception": false,
     "start_time": "2022-12-06T08:09:32.860312",
     "status": "completed"
    },
    "tags": []
   },
   "outputs": [
    {
     "data": {
      "text/plain": [
       "Index(['assists', 'kills', 'killPoints', 'DBNOs', 'killStreaks', 'boosts',\n",
       "       'revives', 'heals', 'matchType'],\n",
       "      dtype='object')"
      ]
     },
     "execution_count": 8,
     "metadata": {},
     "output_type": "execute_result"
    }
   ],
   "source": [
    "X_last_test.columns"
   ]
  },
  {
   "cell_type": "code",
   "execution_count": 9,
   "id": "5c6db1f1",
   "metadata": {
    "execution": {
     "iopub.execute_input": "2022-12-06T08:09:32.886754Z",
     "iopub.status.busy": "2022-12-06T08:09:32.886392Z",
     "iopub.status.idle": "2022-12-06T08:09:35.570239Z",
     "shell.execute_reply": "2022-12-06T08:09:35.569144Z"
    },
    "papermill": {
     "duration": 2.692557,
     "end_time": "2022-12-06T08:09:35.572615",
     "exception": false,
     "start_time": "2022-12-06T08:09:32.880058",
     "status": "completed"
    },
    "tags": []
   },
   "outputs": [
    {
     "data": {
      "text/plain": [
       "0          41\n",
       "1          21\n",
       "2          41\n",
       "3          21\n",
       "4          41\n",
       "           ..\n",
       "1934169    41\n",
       "1934170    41\n",
       "1934171    41\n",
       "1934172    21\n",
       "1934173    41\n",
       "Name: matchType, Length: 1934174, dtype: int64"
      ]
     },
     "execution_count": 9,
     "metadata": {},
     "output_type": "execute_result"
    }
   ],
   "source": [
    "X_last_test['matchType'] = X_last_test['matchType'].replace({'solo-fpp':11})\n",
    "X_last_test['matchType'] = X_last_test['matchType'].replace({'duo-fpp':21})\n",
    "X_last_test['matchType'] = X_last_test['matchType'].replace({'solo':13})\n",
    "X_last_test['matchType'] = X_last_test['matchType'].replace({'duo':23})\n",
    "X_last_test['matchType'] = X_last_test['matchType'].replace({'squad':43})\n",
    "X_last_test['matchType'] = X_last_test['matchType'].replace({'squad-fpp':41})\n",
    "X_last_test['matchType'] = X_last_test['matchType'].replace({'normal-solo-fpp':110})\n",
    "X_last_test['matchType'] = X_last_test['matchType'].replace({'normal-duo-fpp': 210})\n",
    "X_last_test['matchType'] = X_last_test['matchType'].replace({'normal-squad-fpp':410})\n",
    "X_last_test['matchType'] = X_last_test['matchType'].replace({'normal-solo':130})\n",
    "X_last_test['matchType'] = X_last_test['matchType'].replace({'normal-duo':230})\n",
    "X_last_test['matchType'] = X_last_test['matchType'].replace({'normal-squad':430})\n",
    "X_last_test['matchType'] = X_last_test['matchType'].replace({'crashfpp':10})\n",
    "X_last_test['matchType'] = X_last_test['matchType'].replace({'crashtpp':30})\n",
    "X_last_test['matchType'] = X_last_test['matchType'].replace({'flarefpp':19})\n",
    "X_last_test['matchType'] = X_last_test['matchType'].replace({'flaretpp':39})\n",
    "X_last_test['matchType']"
   ]
  },
  {
   "cell_type": "code",
   "execution_count": 10,
   "id": "281eda34",
   "metadata": {
    "execution": {
     "iopub.execute_input": "2022-12-06T08:09:35.586398Z",
     "iopub.status.busy": "2022-12-06T08:09:35.586021Z",
     "iopub.status.idle": "2022-12-06T08:09:35.602693Z",
     "shell.execute_reply": "2022-12-06T08:09:35.601423Z"
    },
    "papermill": {
     "duration": 0.026838,
     "end_time": "2022-12-06T08:09:35.605468",
     "exception": false,
     "start_time": "2022-12-06T08:09:35.578630",
     "status": "completed"
    },
    "tags": []
   },
   "outputs": [
    {
     "data": {
      "text/plain": [
       "array([ 41,  21,  43,  11,  13,  23, 410,  30, 210,  10, 230,  39, 110,\n",
       "       130,  19, 430])"
      ]
     },
     "execution_count": 10,
     "metadata": {},
     "output_type": "execute_result"
    }
   ],
   "source": [
    "X_last_test['matchType'].unique()"
   ]
  },
  {
   "cell_type": "code",
   "execution_count": 11,
   "id": "65e102dc",
   "metadata": {
    "execution": {
     "iopub.execute_input": "2022-12-06T08:09:35.618717Z",
     "iopub.status.busy": "2022-12-06T08:09:35.618286Z",
     "iopub.status.idle": "2022-12-06T08:09:35.635198Z",
     "shell.execute_reply": "2022-12-06T08:09:35.633574Z"
    },
    "papermill": {
     "duration": 0.026211,
     "end_time": "2022-12-06T08:09:35.637509",
     "exception": false,
     "start_time": "2022-12-06T08:09:35.611298",
     "status": "completed"
    },
    "tags": []
   },
   "outputs": [
    {
     "name": "stdout",
     "output_type": "stream",
     "text": [
      "<class 'pandas.core.frame.DataFrame'>\n",
      "RangeIndex: 1934174 entries, 0 to 1934173\n",
      "Data columns (total 9 columns):\n",
      " #   Column       Dtype\n",
      "---  ------       -----\n",
      " 0   assists      int64\n",
      " 1   kills        int64\n",
      " 2   killPoints   int64\n",
      " 3   DBNOs        int64\n",
      " 4   killStreaks  int64\n",
      " 5   boosts       int64\n",
      " 6   revives      int64\n",
      " 7   heals        int64\n",
      " 8   matchType    int64\n",
      "dtypes: int64(9)\n",
      "memory usage: 132.8 MB\n"
     ]
    }
   ],
   "source": [
    "X_last_test.info()"
   ]
  },
  {
   "cell_type": "code",
   "execution_count": 12,
   "id": "6c35d4b2",
   "metadata": {
    "execution": {
     "iopub.execute_input": "2022-12-06T08:09:35.651098Z",
     "iopub.status.busy": "2022-12-06T08:09:35.650658Z",
     "iopub.status.idle": "2022-12-06T08:09:35.664654Z",
     "shell.execute_reply": "2022-12-06T08:09:35.662090Z"
    },
    "papermill": {
     "duration": 0.023862,
     "end_time": "2022-12-06T08:09:35.667201",
     "exception": false,
     "start_time": "2022-12-06T08:09:35.643339",
     "status": "completed"
    },
    "tags": []
   },
   "outputs": [
    {
     "name": "stdout",
     "output_type": "stream",
     "text": [
      "<class 'pandas.core.frame.DataFrame'>\n",
      "Int64Index: 4446965 entries, 0 to 4446965\n",
      "Data columns (total 9 columns):\n",
      " #   Column       Dtype\n",
      "---  ------       -----\n",
      " 0   assists      int64\n",
      " 1   kills        int64\n",
      " 2   killPoints   int64\n",
      " 3   DBNOs        int64\n",
      " 4   killStreaks  int64\n",
      " 5   boosts       int64\n",
      " 6   revives      int64\n",
      " 7   heals        int64\n",
      " 8   matchType    int64\n",
      "dtypes: int64(9)\n",
      "memory usage: 339.3 MB\n"
     ]
    }
   ],
   "source": [
    "X_tr_all.info()"
   ]
  },
  {
   "cell_type": "code",
   "execution_count": 13,
   "id": "659936d1",
   "metadata": {
    "execution": {
     "iopub.execute_input": "2022-12-06T08:09:35.680370Z",
     "iopub.status.busy": "2022-12-06T08:09:35.679983Z",
     "iopub.status.idle": "2022-12-06T08:09:36.897956Z",
     "shell.execute_reply": "2022-12-06T08:09:36.897130Z"
    },
    "papermill": {
     "duration": 1.227231,
     "end_time": "2022-12-06T08:09:36.900406",
     "exception": false,
     "start_time": "2022-12-06T08:09:35.673175",
     "status": "completed"
    },
    "tags": []
   },
   "outputs": [],
   "source": [
    "X_train,X_test,y_train,y_test = train_test_split(X_tr_all, y_tr_all, test_size = 0.3, random_state = 33)"
   ]
  },
  {
   "cell_type": "code",
   "execution_count": 14,
   "id": "cc0326ac",
   "metadata": {
    "execution": {
     "iopub.execute_input": "2022-12-06T08:09:36.913776Z",
     "iopub.status.busy": "2022-12-06T08:09:36.913056Z",
     "iopub.status.idle": "2022-12-06T08:09:49.883494Z",
     "shell.execute_reply": "2022-12-06T08:09:49.882718Z"
    },
    "papermill": {
     "duration": 12.979316,
     "end_time": "2022-12-06T08:09:49.885630",
     "exception": false,
     "start_time": "2022-12-06T08:09:36.906314",
     "status": "completed"
    },
    "tags": []
   },
   "outputs": [],
   "source": [
    "model = LGBMClassifier()\n",
    "model = model.fit(X_train,y_train)"
   ]
  },
  {
   "cell_type": "code",
   "execution_count": 15,
   "id": "bb77cdf1",
   "metadata": {
    "execution": {
     "iopub.execute_input": "2022-12-06T08:09:49.898079Z",
     "iopub.status.busy": "2022-12-06T08:09:49.897237Z",
     "iopub.status.idle": "2022-12-06T08:09:52.657444Z",
     "shell.execute_reply": "2022-12-06T08:09:52.656692Z"
    },
    "papermill": {
     "duration": 2.768002,
     "end_time": "2022-12-06T08:09:52.659101",
     "exception": false,
     "start_time": "2022-12-06T08:09:49.891099",
     "status": "completed"
    },
    "tags": []
   },
   "outputs": [
    {
     "data": {
      "text/plain": [
       "array([0.00302068, 0.09953728, 0.01055942, ..., 0.01122309, 0.02228706,\n",
       "       0.00288612])"
      ]
     },
     "execution_count": 15,
     "metadata": {},
     "output_type": "execute_result"
    }
   ],
   "source": [
    "pred = model.predict_proba(X_last_test)[:,1]\n",
    "pred"
   ]
  },
  {
   "cell_type": "code",
   "execution_count": 16,
   "id": "3df433a6",
   "metadata": {
    "execution": {
     "iopub.execute_input": "2022-12-06T08:09:52.671882Z",
     "iopub.status.busy": "2022-12-06T08:09:52.671509Z",
     "iopub.status.idle": "2022-12-06T08:09:52.678235Z",
     "shell.execute_reply": "2022-12-06T08:09:52.677051Z"
    },
    "papermill": {
     "duration": 0.015644,
     "end_time": "2022-12-06T08:09:52.680232",
     "exception": false,
     "start_time": "2022-12-06T08:09:52.664588",
     "status": "completed"
    },
    "tags": []
   },
   "outputs": [
    {
     "data": {
      "text/plain": [
       "1934174"
      ]
     },
     "execution_count": 16,
     "metadata": {},
     "output_type": "execute_result"
    }
   ],
   "source": [
    "len(pred)"
   ]
  },
  {
   "cell_type": "code",
   "execution_count": 17,
   "id": "d35a9c1e",
   "metadata": {
    "execution": {
     "iopub.execute_input": "2022-12-06T08:09:52.693590Z",
     "iopub.status.busy": "2022-12-06T08:09:52.693234Z",
     "iopub.status.idle": "2022-12-06T08:09:54.049359Z",
     "shell.execute_reply": "2022-12-06T08:09:54.047898Z"
    },
    "papermill": {
     "duration": 1.365625,
     "end_time": "2022-12-06T08:09:54.051787",
     "exception": false,
     "start_time": "2022-12-06T08:09:52.686162",
     "status": "completed"
    },
    "tags": []
   },
   "outputs": [
    {
     "data": {
      "text/html": [
       "<div>\n",
       "<style scoped>\n",
       "    .dataframe tbody tr th:only-of-type {\n",
       "        vertical-align: middle;\n",
       "    }\n",
       "\n",
       "    .dataframe tbody tr th {\n",
       "        vertical-align: top;\n",
       "    }\n",
       "\n",
       "    .dataframe thead th {\n",
       "        text-align: right;\n",
       "    }\n",
       "</style>\n",
       "<table border=\"1\" class=\"dataframe\">\n",
       "  <thead>\n",
       "    <tr style=\"text-align: right;\">\n",
       "      <th></th>\n",
       "      <th>Id</th>\n",
       "      <th>winPlacePerc</th>\n",
       "    </tr>\n",
       "  </thead>\n",
       "  <tbody>\n",
       "    <tr>\n",
       "      <th>0</th>\n",
       "      <td>9329eb41e215eb</td>\n",
       "      <td>1</td>\n",
       "    </tr>\n",
       "    <tr>\n",
       "      <th>1</th>\n",
       "      <td>639bd0dcd7bda8</td>\n",
       "      <td>1</td>\n",
       "    </tr>\n",
       "    <tr>\n",
       "      <th>2</th>\n",
       "      <td>63d5c8ef8dfe91</td>\n",
       "      <td>1</td>\n",
       "    </tr>\n",
       "    <tr>\n",
       "      <th>3</th>\n",
       "      <td>cf5b81422591d1</td>\n",
       "      <td>1</td>\n",
       "    </tr>\n",
       "    <tr>\n",
       "      <th>4</th>\n",
       "      <td>ee6a295187ba21</td>\n",
       "      <td>1</td>\n",
       "    </tr>\n",
       "  </tbody>\n",
       "</table>\n",
       "</div>"
      ],
      "text/plain": [
       "               Id  winPlacePerc\n",
       "0  9329eb41e215eb             1\n",
       "1  639bd0dcd7bda8             1\n",
       "2  63d5c8ef8dfe91             1\n",
       "3  cf5b81422591d1             1\n",
       "4  ee6a295187ba21             1"
      ]
     },
     "execution_count": 17,
     "metadata": {},
     "output_type": "execute_result"
    }
   ],
   "source": [
    "sample_submission = pd.read_csv(\"../input/pubg-finish-placement-prediction/sample_submission_V2.csv\")\n",
    "sample_submission.head()"
   ]
  },
  {
   "cell_type": "code",
   "execution_count": 18,
   "id": "bbfe1280",
   "metadata": {
    "execution": {
     "iopub.execute_input": "2022-12-06T08:09:54.065445Z",
     "iopub.status.busy": "2022-12-06T08:09:54.065074Z",
     "iopub.status.idle": "2022-12-06T08:09:54.072294Z",
     "shell.execute_reply": "2022-12-06T08:09:54.071092Z"
    },
    "papermill": {
     "duration": 0.016075,
     "end_time": "2022-12-06T08:09:54.074006",
     "exception": false,
     "start_time": "2022-12-06T08:09:54.057931",
     "status": "completed"
    },
    "tags": []
   },
   "outputs": [
    {
     "data": {
      "text/plain": [
       "(1934174, 2)"
      ]
     },
     "execution_count": 18,
     "metadata": {},
     "output_type": "execute_result"
    }
   ],
   "source": [
    "sample_submission.shape"
   ]
  },
  {
   "cell_type": "code",
   "execution_count": 19,
   "id": "3f4d54a7",
   "metadata": {
    "execution": {
     "iopub.execute_input": "2022-12-06T08:09:54.087520Z",
     "iopub.status.busy": "2022-12-06T08:09:54.087151Z",
     "iopub.status.idle": "2022-12-06T08:09:57.486478Z",
     "shell.execute_reply": "2022-12-06T08:09:57.484993Z"
    },
    "papermill": {
     "duration": 3.408957,
     "end_time": "2022-12-06T08:09:57.488952",
     "exception": false,
     "start_time": "2022-12-06T08:09:54.079995",
     "status": "completed"
    },
    "tags": []
   },
   "outputs": [],
   "source": [
    "sample_submission[\"winPlacePerc\"] = pred\n",
    "sample_submission.to_csv(\"submission.csv\", index=False)"
   ]
  },
  {
   "cell_type": "code",
   "execution_count": null,
   "id": "0b3f1f29",
   "metadata": {
    "papermill": {
     "duration": 0.005494,
     "end_time": "2022-12-06T08:09:57.500408",
     "exception": false,
     "start_time": "2022-12-06T08:09:57.494914",
     "status": "completed"
    },
    "tags": []
   },
   "outputs": [],
   "source": []
  }
 ],
 "metadata": {
  "kernelspec": {
   "display_name": "Python 3",
   "language": "python",
   "name": "python3"
  },
  "language_info": {
   "codemirror_mode": {
    "name": "ipython",
    "version": 3
   },
   "file_extension": ".py",
   "mimetype": "text/x-python",
   "name": "python",
   "nbconvert_exporter": "python",
   "pygments_lexer": "ipython3",
   "version": "3.7.12"
  },
  "papermill": {
   "default_parameters": {},
   "duration": 72.320248,
   "end_time": "2022-12-06T08:09:58.629156",
   "environment_variables": {},
   "exception": null,
   "input_path": "__notebook__.ipynb",
   "output_path": "__notebook__.ipynb",
   "parameters": {},
   "start_time": "2022-12-06T08:08:46.308908",
   "version": "2.3.4"
  }
 },
 "nbformat": 4,
 "nbformat_minor": 5
}
