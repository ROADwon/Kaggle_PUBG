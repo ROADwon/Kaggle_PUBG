{
 "cells": [
  {
   "cell_type": "code",
   "execution_count": 1,
   "id": "c2d52636",
   "metadata": {
    "_cell_guid": "b1076dfc-b9ad-4769-8c92-a6c4dae69d19",
    "_uuid": "8f2839f25d086af736a60e9eeb907d3b93b6e0e5",
    "execution": {
     "iopub.execute_input": "2022-12-07T08:15:50.534944Z",
     "iopub.status.busy": "2022-12-07T08:15:50.534428Z",
     "iopub.status.idle": "2022-12-07T08:15:50.551439Z",
     "shell.execute_reply": "2022-12-07T08:15:50.549875Z"
    },
    "papermill": {
     "duration": 0.03076,
     "end_time": "2022-12-07T08:15:50.555187",
     "exception": false,
     "start_time": "2022-12-07T08:15:50.524427",
     "status": "completed"
    },
    "tags": []
   },
   "outputs": [
    {
     "name": "stdout",
     "output_type": "stream",
     "text": [
      "/kaggle/input/pubg-finish-placement-prediction/train_V2.csv\n",
      "/kaggle/input/pubg-finish-placement-prediction/test_V2.csv\n",
      "/kaggle/input/pubg-finish-placement-prediction/sample_submission_V2.csv\n"
     ]
    }
   ],
   "source": [
    "# This Python 3 environment comes with many helpful analytics libraries installed\n",
    "# It is defined by the kaggle/python Docker image: https://github.com/kaggle/docker-python\n",
    "# For example, here's several helpful packages to load\n",
    "\n",
    "import numpy as np # linear algebra\n",
    "import pandas as pd # data processing, CSV file I/O (e.g. pd.read_csv)\n",
    "\n",
    "# Input data files are available in the read-only \"../input/\" directory\n",
    "# For example, running this (by clicking run or pressing Shift+Enter) will list all files under the input directory\n",
    "\n",
    "import os\n",
    "for dirname, _, filenames in os.walk('/kaggle/input'):\n",
    "    for filename in filenames:\n",
    "        print(os.path.join(dirname, filename))\n",
    "\n",
    "# You can write up to 20GB to the current directory (/kaggle/working/) that gets preserved as output when you create a version using \"Save & Run All\" \n",
    "# You can also write temporary files to /kaggle/temp/, but they won't be saved outside of the current session"
   ]
  },
  {
   "cell_type": "code",
   "execution_count": 2,
   "id": "30cc805c",
   "metadata": {
    "execution": {
     "iopub.execute_input": "2022-12-07T08:15:50.569060Z",
     "iopub.status.busy": "2022-12-07T08:15:50.568242Z",
     "iopub.status.idle": "2022-12-07T08:15:52.839070Z",
     "shell.execute_reply": "2022-12-07T08:15:52.837396Z"
    },
    "papermill": {
     "duration": 2.281858,
     "end_time": "2022-12-07T08:15:52.842154",
     "exception": false,
     "start_time": "2022-12-07T08:15:50.560296",
     "status": "completed"
    },
    "tags": []
   },
   "outputs": [
    {
     "data": {
      "text/html": [
       "<style type='text/css'>\n",
       ".datatable table.frame { margin-bottom: 0; }\n",
       ".datatable table.frame thead { border-bottom: none; }\n",
       ".datatable table.frame tr.coltypes td {  color: #FFFFFF;  line-height: 6px;  padding: 0 0.5em;}\n",
       ".datatable .bool    { background: #DDDD99; }\n",
       ".datatable .object  { background: #565656; }\n",
       ".datatable .int     { background: #5D9E5D; }\n",
       ".datatable .float   { background: #4040CC; }\n",
       ".datatable .str     { background: #CC4040; }\n",
       ".datatable .time    { background: #40CC40; }\n",
       ".datatable .row_index {  background: var(--jp-border-color3);  border-right: 1px solid var(--jp-border-color0);  color: var(--jp-ui-font-color3);  font-size: 9px;}\n",
       ".datatable .frame tbody td { text-align: left; }\n",
       ".datatable .frame tr.coltypes .row_index {  background: var(--jp-border-color0);}\n",
       ".datatable th:nth-child(2) { padding-left: 12px; }\n",
       ".datatable .hellipsis {  color: var(--jp-cell-editor-border-color);}\n",
       ".datatable .vellipsis {  background: var(--jp-layout-color0);  color: var(--jp-cell-editor-border-color);}\n",
       ".datatable .na {  color: var(--jp-cell-editor-border-color);  font-size: 80%;}\n",
       ".datatable .sp {  opacity: 0.25;}\n",
       ".datatable .footer { font-size: 9px; }\n",
       ".datatable .frame_dimensions {  background: var(--jp-border-color3);  border-top: 1px solid var(--jp-border-color0);  color: var(--jp-ui-font-color3);  display: inline-block;  opacity: 0.6;  padding: 1px 10px 1px 5px;}\n",
       ".datatable .frame thead tr.colnames {  background-image: url('data:image/png;base64,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');  background-repeat: repeat-x;  background-size: 14px;  height: 28px;}\n",
       "</style>\n"
      ],
      "text/plain": [
       "<IPython.core.display.HTML object>"
      ]
     },
     "metadata": {},
     "output_type": "display_data"
    }
   ],
   "source": [
    "import numpy as np\n",
    "import pandas as pd\n",
    "from lightgbm import LGBMRegressor\n",
    "from sklearn.model_selection import train_test_split"
   ]
  },
  {
   "cell_type": "code",
   "execution_count": 3,
   "id": "e03016cd",
   "metadata": {
    "execution": {
     "iopub.execute_input": "2022-12-07T08:15:52.853339Z",
     "iopub.status.busy": "2022-12-07T08:15:52.852932Z",
     "iopub.status.idle": "2022-12-07T08:16:38.494210Z",
     "shell.execute_reply": "2022-12-07T08:16:38.492629Z"
    },
    "papermill": {
     "duration": 45.650676,
     "end_time": "2022-12-07T08:16:38.497769",
     "exception": false,
     "start_time": "2022-12-07T08:15:52.847093",
     "status": "completed"
    },
    "tags": []
   },
   "outputs": [],
   "source": [
    "train = pd.read_csv(\"/kaggle/input/pubg-finish-placement-prediction/train_V2.csv\")\n",
    "test = pd.read_csv(\"/kaggle/input/pubg-finish-placement-prediction/test_V2.csv\")\n"
   ]
  },
  {
   "cell_type": "code",
   "execution_count": 4,
   "id": "ca229bd4",
   "metadata": {
    "execution": {
     "iopub.execute_input": "2022-12-07T08:16:38.509202Z",
     "iopub.status.busy": "2022-12-07T08:16:38.508784Z",
     "iopub.status.idle": "2022-12-07T08:16:40.476459Z",
     "shell.execute_reply": "2022-12-07T08:16:40.475369Z"
    },
    "papermill": {
     "duration": 1.977392,
     "end_time": "2022-12-07T08:16:40.480061",
     "exception": false,
     "start_time": "2022-12-07T08:16:38.502669",
     "status": "completed"
    },
    "tags": []
   },
   "outputs": [],
   "source": [
    "train.dropna(axis=0, inplace= True)"
   ]
  },
  {
   "cell_type": "code",
   "execution_count": 5,
   "id": "f344a066",
   "metadata": {
    "execution": {
     "iopub.execute_input": "2022-12-07T08:16:40.497867Z",
     "iopub.status.busy": "2022-12-07T08:16:40.496329Z",
     "iopub.status.idle": "2022-12-07T08:16:41.360568Z",
     "shell.execute_reply": "2022-12-07T08:16:41.359328Z"
    },
    "papermill": {
     "duration": 0.876197,
     "end_time": "2022-12-07T08:16:41.363553",
     "exception": false,
     "start_time": "2022-12-07T08:16:40.487356",
     "status": "completed"
    },
    "tags": []
   },
   "outputs": [],
   "source": [
    "label_name = 'winPlacePerc'\n",
    "X_tr_all = train.loc[ : , ['assists','kills','killPoints','DBNOs','killStreaks','boosts','killPlace','revives','heals','matchType']]\n",
    "train = train.astype({'winPlacePerc': 'int'})\n",
    "y_tr_all = train[label_name]\n",
    "X_last_test = test.loc[ : , ['assists','kills','killPoints','DBNOs','killStreaks','boosts','killPlace','revives','heals','matchType']]"
   ]
  },
  {
   "cell_type": "code",
   "execution_count": 6,
   "id": "db9c8088",
   "metadata": {
    "execution": {
     "iopub.execute_input": "2022-12-07T08:16:41.374183Z",
     "iopub.status.busy": "2022-12-07T08:16:41.373748Z",
     "iopub.status.idle": "2022-12-07T08:16:49.121496Z",
     "shell.execute_reply": "2022-12-07T08:16:49.119908Z"
    },
    "papermill": {
     "duration": 7.756257,
     "end_time": "2022-12-07T08:16:49.124544",
     "exception": false,
     "start_time": "2022-12-07T08:16:41.368287",
     "status": "completed"
    },
    "tags": []
   },
   "outputs": [
    {
     "data": {
      "text/plain": [
       "0          41\n",
       "1          41\n",
       "2          23\n",
       "3          41\n",
       "4          11\n",
       "           ..\n",
       "4446961    41\n",
       "4446962    13\n",
       "4446963    41\n",
       "4446964    41\n",
       "4446965    11\n",
       "Name: matchType, Length: 4446965, dtype: int64"
      ]
     },
     "execution_count": 6,
     "metadata": {},
     "output_type": "execute_result"
    }
   ],
   "source": [
    "X_tr_all['matchType'] = X_tr_all['matchType'].replace({'solo-fpp':11})\n",
    "X_tr_all['matchType'] = X_tr_all['matchType'].replace({'duo-fpp':21})\n",
    "X_tr_all['matchType'] = X_tr_all['matchType'].replace({'solo':13})\n",
    "X_tr_all['matchType'] = X_tr_all['matchType'].replace({'duo':23})\n",
    "X_tr_all['matchType'] = X_tr_all['matchType'].replace({'squad':43})\n",
    "X_tr_all['matchType'] = X_tr_all['matchType'].replace({'squad-fpp':41})\n",
    "X_tr_all['matchType'] = X_tr_all['matchType'].replace({'normal-solo-fpp':110})\n",
    "X_tr_all['matchType'] = X_tr_all['matchType'].replace({'normal-duo-fpp': 210})\n",
    "X_tr_all['matchType'] = X_tr_all['matchType'].replace({'normal-squad-fpp':410})\n",
    "X_tr_all['matchType'] = X_tr_all['matchType'].replace({'normal-solo':130})\n",
    "X_tr_all['matchType'] = X_tr_all['matchType'].replace({'normal-duo':230})\n",
    "X_tr_all['matchType'] = X_tr_all['matchType'].replace({'normal-squad':430})\n",
    "X_tr_all['matchType'] = X_tr_all['matchType'].replace({'crashfpp':10})\n",
    "X_tr_all['matchType'] = X_tr_all['matchType'].replace({'crashtpp':30})\n",
    "X_tr_all['matchType'] = X_tr_all['matchType'].replace({'flarefpp':19})\n",
    "X_tr_all['matchType'] = X_tr_all['matchType'].replace({'flaretpp':39})\n",
    "X_tr_all['matchType']"
   ]
  },
  {
   "cell_type": "code",
   "execution_count": 7,
   "id": "3bb10473",
   "metadata": {
    "execution": {
     "iopub.execute_input": "2022-12-07T08:16:49.135345Z",
     "iopub.status.busy": "2022-12-07T08:16:49.134915Z",
     "iopub.status.idle": "2022-12-07T08:16:52.570928Z",
     "shell.execute_reply": "2022-12-07T08:16:52.569236Z"
    },
    "papermill": {
     "duration": 3.444911,
     "end_time": "2022-12-07T08:16:52.574025",
     "exception": false,
     "start_time": "2022-12-07T08:16:49.129114",
     "status": "completed"
    },
    "tags": []
   },
   "outputs": [
    {
     "data": {
      "text/plain": [
       "0          41\n",
       "1          21\n",
       "2          41\n",
       "3          21\n",
       "4          41\n",
       "           ..\n",
       "1934169    41\n",
       "1934170    41\n",
       "1934171    41\n",
       "1934172    21\n",
       "1934173    41\n",
       "Name: matchType, Length: 1934174, dtype: int64"
      ]
     },
     "execution_count": 7,
     "metadata": {},
     "output_type": "execute_result"
    }
   ],
   "source": [
    "X_last_test['matchType'] = X_last_test['matchType'].replace({'solo-fpp':11})\n",
    "X_last_test['matchType'] = X_last_test['matchType'].replace({'duo-fpp':21})\n",
    "X_last_test['matchType'] = X_last_test['matchType'].replace({'solo':13})\n",
    "X_last_test['matchType'] = X_last_test['matchType'].replace({'duo':23})\n",
    "X_last_test['matchType'] = X_last_test['matchType'].replace({'squad':43})\n",
    "X_last_test['matchType'] = X_last_test['matchType'].replace({'squad-fpp':41})\n",
    "X_last_test['matchType'] = X_last_test['matchType'].replace({'normal-solo-fpp':110})\n",
    "X_last_test['matchType'] = X_last_test['matchType'].replace({'normal-duo-fpp': 210})\n",
    "X_last_test['matchType'] = X_last_test['matchType'].replace({'normal-squad-fpp':410})\n",
    "X_last_test['matchType'] = X_last_test['matchType'].replace({'normal-solo':130})\n",
    "X_last_test['matchType'] = X_last_test['matchType'].replace({'normal-duo':230})\n",
    "X_last_test['matchType'] = X_last_test['matchType'].replace({'normal-squad':430})\n",
    "X_last_test['matchType'] = X_last_test['matchType'].replace({'crashfpp':10})\n",
    "X_last_test['matchType'] = X_last_test['matchType'].replace({'crashtpp':30})\n",
    "X_last_test['matchType'] = X_last_test['matchType'].replace({'flarefpp':19})\n",
    "X_last_test['matchType'] = X_last_test['matchType'].replace({'flaretpp':39})\n",
    "X_last_test['matchType']"
   ]
  },
  {
   "cell_type": "code",
   "execution_count": 8,
   "id": "b6937fe7",
   "metadata": {
    "execution": {
     "iopub.execute_input": "2022-12-07T08:16:52.586748Z",
     "iopub.status.busy": "2022-12-07T08:16:52.586252Z",
     "iopub.status.idle": "2022-12-07T08:16:54.295725Z",
     "shell.execute_reply": "2022-12-07T08:16:54.294259Z"
    },
    "papermill": {
     "duration": 1.719428,
     "end_time": "2022-12-07T08:16:54.298766",
     "exception": false,
     "start_time": "2022-12-07T08:16:52.579338",
     "status": "completed"
    },
    "tags": []
   },
   "outputs": [],
   "source": [
    "X_train,X_test,y_train,y_test = train_test_split(X_tr_all,y_tr_all,random_state=33)"
   ]
  },
  {
   "cell_type": "code",
   "execution_count": 9,
   "id": "5e34fb3c",
   "metadata": {
    "execution": {
     "iopub.execute_input": "2022-12-07T08:16:54.311791Z",
     "iopub.status.busy": "2022-12-07T08:16:54.311289Z",
     "iopub.status.idle": "2022-12-07T08:17:11.748467Z",
     "shell.execute_reply": "2022-12-07T08:17:11.746631Z"
    },
    "papermill": {
     "duration": 17.447131,
     "end_time": "2022-12-07T08:17:11.751580",
     "exception": false,
     "start_time": "2022-12-07T08:16:54.304449",
     "status": "completed"
    },
    "tags": []
   },
   "outputs": [
    {
     "data": {
      "text/plain": [
       "array([ 1.42760608e-06,  7.96583716e-03,  1.86932697e-01, ...,\n",
       "        3.38283970e-02, -2.23609848e-04, -6.85767522e-05])"
      ]
     },
     "execution_count": 9,
     "metadata": {},
     "output_type": "execute_result"
    }
   ],
   "source": [
    "model = LGBMRegressor()\n",
    "model = model.fit(X_train,y_train)\n",
    "pred = model.predict(X_test)\n",
    "pred"
   ]
  },
  {
   "cell_type": "code",
   "execution_count": 10,
   "id": "8655bc83",
   "metadata": {
    "execution": {
     "iopub.execute_input": "2022-12-07T08:17:11.768187Z",
     "iopub.status.busy": "2022-12-07T08:17:11.767182Z",
     "iopub.status.idle": "2022-12-07T08:17:15.384516Z",
     "shell.execute_reply": "2022-12-07T08:17:15.383588Z"
    },
    "papermill": {
     "duration": 3.628792,
     "end_time": "2022-12-07T08:17:15.387296",
     "exception": false,
     "start_time": "2022-12-07T08:17:11.758504",
     "status": "completed"
    },
    "tags": []
   },
   "outputs": [
    {
     "data": {
      "text/plain": [
       "array([0.00020143, 0.14909014, 0.0120348 , ..., 0.05242977, 0.01639123,\n",
       "       0.00025455])"
      ]
     },
     "execution_count": 10,
     "metadata": {},
     "output_type": "execute_result"
    }
   ],
   "source": [
    "pred_last = model.predict(X_last_test)\n",
    "pred_last"
   ]
  },
  {
   "cell_type": "code",
   "execution_count": 11,
   "id": "6e022af2",
   "metadata": {
    "execution": {
     "iopub.execute_input": "2022-12-07T08:17:15.399842Z",
     "iopub.status.busy": "2022-12-07T08:17:15.399323Z",
     "iopub.status.idle": "2022-12-07T08:17:17.305593Z",
     "shell.execute_reply": "2022-12-07T08:17:17.303745Z"
    },
    "papermill": {
     "duration": 1.915246,
     "end_time": "2022-12-07T08:17:17.307943",
     "exception": false,
     "start_time": "2022-12-07T08:17:15.392697",
     "status": "completed"
    },
    "tags": []
   },
   "outputs": [
    {
     "data": {
      "text/html": [
       "<div>\n",
       "<style scoped>\n",
       "    .dataframe tbody tr th:only-of-type {\n",
       "        vertical-align: middle;\n",
       "    }\n",
       "\n",
       "    .dataframe tbody tr th {\n",
       "        vertical-align: top;\n",
       "    }\n",
       "\n",
       "    .dataframe thead th {\n",
       "        text-align: right;\n",
       "    }\n",
       "</style>\n",
       "<table border=\"1\" class=\"dataframe\">\n",
       "  <thead>\n",
       "    <tr style=\"text-align: right;\">\n",
       "      <th></th>\n",
       "      <th>Id</th>\n",
       "      <th>winPlacePerc</th>\n",
       "    </tr>\n",
       "  </thead>\n",
       "  <tbody>\n",
       "    <tr>\n",
       "      <th>0</th>\n",
       "      <td>9329eb41e215eb</td>\n",
       "      <td>1</td>\n",
       "    </tr>\n",
       "    <tr>\n",
       "      <th>1</th>\n",
       "      <td>639bd0dcd7bda8</td>\n",
       "      <td>1</td>\n",
       "    </tr>\n",
       "    <tr>\n",
       "      <th>2</th>\n",
       "      <td>63d5c8ef8dfe91</td>\n",
       "      <td>1</td>\n",
       "    </tr>\n",
       "    <tr>\n",
       "      <th>3</th>\n",
       "      <td>cf5b81422591d1</td>\n",
       "      <td>1</td>\n",
       "    </tr>\n",
       "    <tr>\n",
       "      <th>4</th>\n",
       "      <td>ee6a295187ba21</td>\n",
       "      <td>1</td>\n",
       "    </tr>\n",
       "  </tbody>\n",
       "</table>\n",
       "</div>"
      ],
      "text/plain": [
       "               Id  winPlacePerc\n",
       "0  9329eb41e215eb             1\n",
       "1  639bd0dcd7bda8             1\n",
       "2  63d5c8ef8dfe91             1\n",
       "3  cf5b81422591d1             1\n",
       "4  ee6a295187ba21             1"
      ]
     },
     "execution_count": 11,
     "metadata": {},
     "output_type": "execute_result"
    }
   ],
   "source": [
    "sample_submission = pd.read_csv(\"/kaggle/input/pubg-finish-placement-prediction/sample_submission_V2.csv\")\n",
    "sample_submission.head()\n"
   ]
  },
  {
   "cell_type": "code",
   "execution_count": 12,
   "id": "21858876",
   "metadata": {
    "execution": {
     "iopub.execute_input": "2022-12-07T08:17:17.319479Z",
     "iopub.status.busy": "2022-12-07T08:17:17.319097Z",
     "iopub.status.idle": "2022-12-07T08:17:22.411520Z",
     "shell.execute_reply": "2022-12-07T08:17:22.410276Z"
    },
    "papermill": {
     "duration": 5.102021,
     "end_time": "2022-12-07T08:17:22.414797",
     "exception": false,
     "start_time": "2022-12-07T08:17:17.312776",
     "status": "completed"
    },
    "tags": []
   },
   "outputs": [],
   "source": [
    "sample_submission[\"winPlacePerc\"] = pred_last\n",
    "sample_submission.to_csv(\"submission.csv\", index=False)"
   ]
  },
  {
   "cell_type": "code",
   "execution_count": null,
   "id": "ecabe96e",
   "metadata": {
    "papermill": {
     "duration": 0.004995,
     "end_time": "2022-12-07T08:17:22.425714",
     "exception": false,
     "start_time": "2022-12-07T08:17:22.420719",
     "status": "completed"
    },
    "tags": []
   },
   "outputs": [],
   "source": []
  }
 ],
 "metadata": {
  "kernelspec": {
   "display_name": "Python 3",
   "language": "python",
   "name": "python3"
  },
  "language_info": {
   "codemirror_mode": {
    "name": "ipython",
    "version": 3
   },
   "file_extension": ".py",
   "mimetype": "text/x-python",
   "name": "python",
   "nbconvert_exporter": "python",
   "pygments_lexer": "ipython3",
   "version": "3.7.12"
  },
  "papermill": {
   "default_parameters": {},
   "duration": 102.304733,
   "end_time": "2022-12-07T08:17:23.758141",
   "environment_variables": {},
   "exception": null,
   "input_path": "__notebook__.ipynb",
   "output_path": "__notebook__.ipynb",
   "parameters": {},
   "start_time": "2022-12-07T08:15:41.453408",
   "version": "2.3.4"
  }
 },
 "nbformat": 4,
 "nbformat_minor": 5
}
