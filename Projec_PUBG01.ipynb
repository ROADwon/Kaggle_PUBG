{
 "cells": [
  {
   "cell_type": "markdown",
   "metadata": {},
   "source": [
    "### 01. PUBG 승률예측 모델 기본 모델 제작"
   ]
  },
  {
   "cell_type": "markdown",
   "metadata": {},
   "source": [
    "### 실습 내용 : DecisionClassifierTree를 이용하여 winPlacePerc값을 예측하는 모델 구축"
   ]
  },
  {
   "cell_type": "markdown",
   "metadata": {},
   "source": [
    "#### "
   ]
  },
  {
   "cell_type": "code",
   "execution_count": 1,
   "metadata": {},
   "outputs": [
    {
     "name": "stdout",
     "output_type": "stream",
     "text": [
      "Collecting lightgbm\n",
      "  Downloading lightgbm-3.3.3-py3-none-win_amd64.whl (1.0 MB)\n",
      "Requirement already satisfied: numpy in c:\\anaconda\\ana_2022\\lib\\site-packages (from lightgbm) (1.21.5)\n",
      "Requirement already satisfied: scikit-learn!=0.22.0 in c:\\anaconda\\ana_2022\\lib\\site-packages (from lightgbm) (1.0.2)\n",
      "Requirement already satisfied: scipy in c:\\anaconda\\ana_2022\\lib\\site-packages (from lightgbm) (1.7.3)\n",
      "Requirement already satisfied: wheel in c:\\anaconda\\ana_2022\\lib\\site-packages (from lightgbm) (0.37.1)\n",
      "Requirement already satisfied: threadpoolctl>=2.0.0 in c:\\anaconda\\ana_2022\\lib\\site-packages (from scikit-learn!=0.22.0->lightgbm) (2.2.0)\n",
      "Requirement already satisfied: joblib>=0.11 in c:\\anaconda\\ana_2022\\lib\\site-packages (from scikit-learn!=0.22.0->lightgbm) (1.1.0)\n",
      "Installing collected packages: lightgbm\n",
      "Successfully installed lightgbm-3.3.3\n",
      "Note: you may need to restart the kernel to use updated packages.\n"
     ]
    }
   ],
   "source": [
    "!pip install lightgbm"
   ]
  },
  {
   "cell_type": "code",
   "execution_count": 78,
   "metadata": {},
   "outputs": [],
   "source": [
    "import pandas as pd\n",
    "import numpy as np\n",
    "import sklearn\n",
    "from sklearn.model_selection import train_test_split\n",
    "from sklearn.ensemble import RandomForestClassifier\n",
    "from sklearn.tree import DecisionTreeClassifier\n",
    "from sklearn.metrics import mean_absolute_error"
   ]
  },
  {
   "cell_type": "code",
   "execution_count": 25,
   "metadata": {},
   "outputs": [],
   "source": [
    "train = pd.read_csv(\"train_V2.csv\")\n",
    "test = pd.read_csv(\"test_V2.csv\")\n",
    "sub= pd.read_csv(\"sample_submission_V2.csv\")"
   ]
  },
  {
   "cell_type": "code",
   "execution_count": 26,
   "metadata": {},
   "outputs": [
    {
     "data": {
      "text/plain": [
       "((4446966, 29), (1934174, 28))"
      ]
     },
     "execution_count": 26,
     "metadata": {},
     "output_type": "execute_result"
    }
   ],
   "source": [
    "train.shape, test.shape"
   ]
  },
  {
   "cell_type": "code",
   "execution_count": 27,
   "metadata": {},
   "outputs": [
    {
     "name": "stdout",
     "output_type": "stream",
     "text": [
      "<class 'pandas.core.frame.DataFrame'>\n",
      "RangeIndex: 4446966 entries, 0 to 4446965\n",
      "Data columns (total 29 columns):\n",
      " #   Column           Dtype  \n",
      "---  ------           -----  \n",
      " 0   Id               object \n",
      " 1   groupId          object \n",
      " 2   matchId          object \n",
      " 3   assists          int64  \n",
      " 4   boosts           int64  \n",
      " 5   damageDealt      float64\n",
      " 6   DBNOs            int64  \n",
      " 7   headshotKills    int64  \n",
      " 8   heals            int64  \n",
      " 9   killPlace        int64  \n",
      " 10  killPoints       int64  \n",
      " 11  kills            int64  \n",
      " 12  killStreaks      int64  \n",
      " 13  longestKill      float64\n",
      " 14  matchDuration    int64  \n",
      " 15  matchType        object \n",
      " 16  maxPlace         int64  \n",
      " 17  numGroups        int64  \n",
      " 18  rankPoints       int64  \n",
      " 19  revives          int64  \n",
      " 20  rideDistance     float64\n",
      " 21  roadKills        int64  \n",
      " 22  swimDistance     float64\n",
      " 23  teamKills        int64  \n",
      " 24  vehicleDestroys  int64  \n",
      " 25  walkDistance     float64\n",
      " 26  weaponsAcquired  int64  \n",
      " 27  winPoints        int64  \n",
      " 28  winPlacePerc     float64\n",
      "dtypes: float64(6), int64(19), object(4)\n",
      "memory usage: 983.9+ MB\n",
      "<class 'pandas.core.frame.DataFrame'>\n",
      "RangeIndex: 1934174 entries, 0 to 1934173\n",
      "Data columns (total 28 columns):\n",
      " #   Column           Dtype  \n",
      "---  ------           -----  \n",
      " 0   Id               object \n",
      " 1   groupId          object \n",
      " 2   matchId          object \n",
      " 3   assists          int64  \n",
      " 4   boosts           int64  \n",
      " 5   damageDealt      float64\n",
      " 6   DBNOs            int64  \n",
      " 7   headshotKills    int64  \n",
      " 8   heals            int64  \n",
      " 9   killPlace        int64  \n",
      " 10  killPoints       int64  \n",
      " 11  kills            int64  \n",
      " 12  killStreaks      int64  \n",
      " 13  longestKill      float64\n",
      " 14  matchDuration    int64  \n",
      " 15  matchType        object \n",
      " 16  maxPlace         int64  \n",
      " 17  numGroups        int64  \n",
      " 18  rankPoints       int64  \n",
      " 19  revives          int64  \n",
      " 20  rideDistance     float64\n",
      " 21  roadKills        int64  \n",
      " 22  swimDistance     float64\n",
      " 23  teamKills        int64  \n",
      " 24  vehicleDestroys  int64  \n",
      " 25  walkDistance     float64\n",
      " 26  weaponsAcquired  int64  \n",
      " 27  winPoints        int64  \n",
      "dtypes: float64(5), int64(19), object(4)\n",
      "memory usage: 413.2+ MB\n"
     ]
    },
    {
     "data": {
      "text/plain": [
       "(None, None)"
      ]
     },
     "execution_count": 27,
     "metadata": {},
     "output_type": "execute_result"
    }
   ],
   "source": [
    "train.info(), test.info()"
   ]
  },
  {
   "cell_type": "code",
   "execution_count": 28,
   "metadata": {},
   "outputs": [
    {
     "name": "stdout",
     "output_type": "stream",
     "text": [
      "<class 'pandas.core.frame.DataFrame'>\n",
      "RangeIndex: 1934174 entries, 0 to 1934173\n",
      "Data columns (total 28 columns):\n",
      " #   Column           Dtype  \n",
      "---  ------           -----  \n",
      " 0   Id               object \n",
      " 1   groupId          object \n",
      " 2   matchId          object \n",
      " 3   assists          int64  \n",
      " 4   boosts           int64  \n",
      " 5   damageDealt      float64\n",
      " 6   DBNOs            int64  \n",
      " 7   headshotKills    int64  \n",
      " 8   heals            int64  \n",
      " 9   killPlace        int64  \n",
      " 10  killPoints       int64  \n",
      " 11  kills            int64  \n",
      " 12  killStreaks      int64  \n",
      " 13  longestKill      float64\n",
      " 14  matchDuration    int64  \n",
      " 15  matchType        object \n",
      " 16  maxPlace         int64  \n",
      " 17  numGroups        int64  \n",
      " 18  rankPoints       int64  \n",
      " 19  revives          int64  \n",
      " 20  rideDistance     float64\n",
      " 21  roadKills        int64  \n",
      " 22  swimDistance     float64\n",
      " 23  teamKills        int64  \n",
      " 24  vehicleDestroys  int64  \n",
      " 25  walkDistance     float64\n",
      " 26  weaponsAcquired  int64  \n",
      " 27  winPoints        int64  \n",
      "dtypes: float64(5), int64(19), object(4)\n",
      "memory usage: 413.2+ MB\n"
     ]
    }
   ],
   "source": [
    "test.info()"
   ]
  },
  {
   "cell_type": "code",
   "execution_count": 29,
   "metadata": {},
   "outputs": [
    {
     "data": {
      "text/plain": [
       "(               Id         groupId         matchId  assists  boosts  \\\n",
       " 0  7f96b2f878858a  4d4b580de459be  a10357fd1a4a91        0       0   \n",
       " 1  eef90569b9d03c  684d5656442f9e  aeb375fc57110c        0       0   \n",
       " 2  1eaf90ac73de72  6a4a42c3245a74  110163d8bb94ae        1       0   \n",
       " 3  4616d365dd2853  a930a9c79cd721  f1f1f4ef412d7e        0       0   \n",
       " 4  315c96c26c9aac  de04010b3458dd  6dc8ff871e21e6        0       0   \n",
       " \n",
       "    damageDealt  DBNOs  headshotKills  heals  killPlace  ...  revives  \\\n",
       " 0         0.00      0              0      0         60  ...        0   \n",
       " 1        91.47      0              0      0         57  ...        0   \n",
       " 2        68.00      0              0      0         47  ...        0   \n",
       " 3        32.90      0              0      0         75  ...        0   \n",
       " 4       100.00      0              0      0         45  ...        0   \n",
       " \n",
       "    rideDistance  roadKills  swimDistance  teamKills vehicleDestroys  \\\n",
       " 0        0.0000          0          0.00          0               0   \n",
       " 1        0.0045          0         11.04          0               0   \n",
       " 2        0.0000          0          0.00          0               0   \n",
       " 3        0.0000          0          0.00          0               0   \n",
       " 4        0.0000          0          0.00          0               0   \n",
       " \n",
       "    walkDistance  weaponsAcquired  winPoints  winPlacePerc  \n",
       " 0        244.80                1       1466        0.4444  \n",
       " 1       1434.00                5          0        0.6400  \n",
       " 2        161.80                2          0        0.7755  \n",
       " 3        202.70                3          0        0.1667  \n",
       " 4         49.75                2          0        0.1875  \n",
       " \n",
       " [5 rows x 29 columns],\n",
       "                Id         groupId         matchId  assists  boosts  \\\n",
       " 0  9329eb41e215eb  676b23c24e70d6  45b576ab7daa7f        0       0   \n",
       " 1  639bd0dcd7bda8  430933124148dd  42a9a0b906c928        0       4   \n",
       " 2  63d5c8ef8dfe91  0b45f5db20ba99  87e7e4477a048e        1       0   \n",
       " 3  cf5b81422591d1  b7497dbdc77f4a  1b9a94f1af67f1        0       0   \n",
       " 4  ee6a295187ba21  6604ce20a1d230  40754a93016066        0       4   \n",
       " \n",
       "    damageDealt  DBNOs  headshotKills  heals  killPlace  ...  rankPoints  \\\n",
       " 0        51.46      0              0      0         73  ...        1500   \n",
       " 1       179.10      0              0      2         11  ...        1503   \n",
       " 2        23.40      0              0      4         49  ...        1565   \n",
       " 3        65.52      0              0      0         54  ...        1465   \n",
       " 4       330.20      1              2      1          7  ...        1480   \n",
       " \n",
       "    revives  rideDistance  roadKills  swimDistance teamKills  vehicleDestroys  \\\n",
       " 0        0           0.0          0           0.0         0                0   \n",
       " 1        2        4669.0          0           0.0         0                0   \n",
       " 2        0           0.0          0           0.0         0                0   \n",
       " 3        0           0.0          0           0.0         0                0   \n",
       " 4        1           0.0          0           0.0         0                0   \n",
       " \n",
       "    walkDistance  weaponsAcquired  winPoints  \n",
       " 0         588.0                1          0  \n",
       " 1        2017.0                6          0  \n",
       " 2         787.8                4          0  \n",
       " 3        1812.0                3          0  \n",
       " 4        2963.0                4          0  \n",
       " \n",
       " [5 rows x 28 columns])"
      ]
     },
     "execution_count": 29,
     "metadata": {},
     "output_type": "execute_result"
    }
   ],
   "source": [
    "train.head(),test.head()"
   ]
  },
  {
   "cell_type": "code",
   "execution_count": 30,
   "metadata": {},
   "outputs": [
    {
     "data": {
      "text/plain": [
       "Index(['Id', 'groupId', 'matchId', 'assists', 'boosts', 'damageDealt', 'DBNOs',\n",
       "       'headshotKills', 'heals', 'killPlace', 'killPoints', 'kills',\n",
       "       'killStreaks', 'longestKill', 'matchDuration', 'matchType', 'maxPlace',\n",
       "       'numGroups', 'rankPoints', 'revives', 'rideDistance', 'roadKills',\n",
       "       'swimDistance', 'teamKills', 'vehicleDestroys', 'walkDistance',\n",
       "       'weaponsAcquired', 'winPoints', 'winPlacePerc'],\n",
       "      dtype='object')"
      ]
     },
     "execution_count": 30,
     "metadata": {},
     "output_type": "execute_result"
    }
   ],
   "source": [
    "train.columns"
   ]
  },
  {
   "cell_type": "code",
   "execution_count": 41,
   "metadata": {},
   "outputs": [
    {
     "name": "stderr",
     "output_type": "stream",
     "text": [
      "C:\\Users\\이길원\\AppData\\Local\\Temp\\ipykernel_8080\\3266938051.py:1: FutureWarning: null_counts is deprecated. Use show_counts instead\n",
      "  train.info(null_counts=True)\n"
     ]
    },
    {
     "name": "stdout",
     "output_type": "stream",
     "text": [
      "<class 'pandas.core.frame.DataFrame'>\n",
      "RangeIndex: 4446966 entries, 0 to 4446965\n",
      "Data columns (total 29 columns):\n",
      " #   Column           Non-Null Count    Dtype  \n",
      "---  ------           --------------    -----  \n",
      " 0   Id               4446966 non-null  object \n",
      " 1   groupId          4446966 non-null  object \n",
      " 2   matchId          4446966 non-null  object \n",
      " 3   assists          4446966 non-null  int64  \n",
      " 4   boosts           4446966 non-null  int64  \n",
      " 5   damageDealt      4446966 non-null  float64\n",
      " 6   DBNOs            4446966 non-null  int64  \n",
      " 7   headshotKills    4446966 non-null  int64  \n",
      " 8   heals            4446966 non-null  int64  \n",
      " 9   killPlace        4446966 non-null  int64  \n",
      " 10  killPoints       4446966 non-null  int64  \n",
      " 11  kills            4446966 non-null  int64  \n",
      " 12  killStreaks      4446966 non-null  int64  \n",
      " 13  longestKill      4446966 non-null  float64\n",
      " 14  matchDuration    4446966 non-null  int64  \n",
      " 15  matchType        4446966 non-null  object \n",
      " 16  maxPlace         4446966 non-null  int64  \n",
      " 17  numGroups        4446966 non-null  int64  \n",
      " 18  rankPoints       4446966 non-null  int64  \n",
      " 19  revives          4446966 non-null  int64  \n",
      " 20  rideDistance     4446966 non-null  float64\n",
      " 21  roadKills        4446966 non-null  int64  \n",
      " 22  swimDistance     4446966 non-null  float64\n",
      " 23  teamKills        4446966 non-null  int64  \n",
      " 24  vehicleDestroys  4446966 non-null  int64  \n",
      " 25  walkDistance     4446966 non-null  float64\n",
      " 26  weaponsAcquired  4446966 non-null  int64  \n",
      " 27  winPoints        4446966 non-null  int64  \n",
      " 28  winPlacePerc     4446965 non-null  float64\n",
      "dtypes: float64(6), int64(19), object(4)\n",
      "memory usage: 983.9+ MB\n"
     ]
    }
   ],
   "source": [
    "train.info(null_counts=True)"
   ]
  },
  {
   "cell_type": "code",
   "execution_count": 43,
   "metadata": {},
   "outputs": [
    {
     "name": "stderr",
     "output_type": "stream",
     "text": [
      "C:\\Users\\이길원\\AppData\\Local\\Temp\\ipykernel_8080\\403389399.py:2: FutureWarning: null_counts is deprecated. Use show_counts instead\n",
      "  train.info(null_counts=True)\n"
     ]
    },
    {
     "name": "stdout",
     "output_type": "stream",
     "text": [
      "<class 'pandas.core.frame.DataFrame'>\n",
      "Int64Index: 4446965 entries, 0 to 4446965\n",
      "Data columns (total 29 columns):\n",
      " #   Column           Non-Null Count    Dtype  \n",
      "---  ------           --------------    -----  \n",
      " 0   Id               4446965 non-null  object \n",
      " 1   groupId          4446965 non-null  object \n",
      " 2   matchId          4446965 non-null  object \n",
      " 3   assists          4446965 non-null  int64  \n",
      " 4   boosts           4446965 non-null  int64  \n",
      " 5   damageDealt      4446965 non-null  float64\n",
      " 6   DBNOs            4446965 non-null  int64  \n",
      " 7   headshotKills    4446965 non-null  int64  \n",
      " 8   heals            4446965 non-null  int64  \n",
      " 9   killPlace        4446965 non-null  int64  \n",
      " 10  killPoints       4446965 non-null  int64  \n",
      " 11  kills            4446965 non-null  int64  \n",
      " 12  killStreaks      4446965 non-null  int64  \n",
      " 13  longestKill      4446965 non-null  float64\n",
      " 14  matchDuration    4446965 non-null  int64  \n",
      " 15  matchType        4446965 non-null  object \n",
      " 16  maxPlace         4446965 non-null  int64  \n",
      " 17  numGroups        4446965 non-null  int64  \n",
      " 18  rankPoints       4446965 non-null  int64  \n",
      " 19  revives          4446965 non-null  int64  \n",
      " 20  rideDistance     4446965 non-null  float64\n",
      " 21  roadKills        4446965 non-null  int64  \n",
      " 22  swimDistance     4446965 non-null  float64\n",
      " 23  teamKills        4446965 non-null  int64  \n",
      " 24  vehicleDestroys  4446965 non-null  int64  \n",
      " 25  walkDistance     4446965 non-null  float64\n",
      " 26  weaponsAcquired  4446965 non-null  int64  \n",
      " 27  winPoints        4446965 non-null  int64  \n",
      " 28  winPlacePerc     4446965 non-null  float64\n",
      "dtypes: float64(6), int64(19), object(4)\n",
      "memory usage: 1017.8+ MB\n"
     ]
    }
   ],
   "source": [
    "train.dropna(axis=0, inplace=True)\n",
    "train.info(null_counts=True)"
   ]
  },
  {
   "cell_type": "code",
   "execution_count": 65,
   "metadata": {},
   "outputs": [],
   "source": [
    "X_tr_all = train.loc[ : , ['assists','kills','killPoints','killStreaks','DBNOs']]\n",
    "label_name = 'winPlacePerc'\n",
    "train = train.astype({'winPlacePerc':'int'})\n",
    "y_tr_all = train[label_name]\n"
   ]
  },
  {
   "cell_type": "code",
   "execution_count": 66,
   "metadata": {},
   "outputs": [
    {
     "data": {
      "text/plain": [
       "(4446965,)"
      ]
     },
     "execution_count": 66,
     "metadata": {},
     "output_type": "execute_result"
    }
   ],
   "source": [
    "X_tr_all.shape\n",
    "y_tr_all.shape"
   ]
  },
  {
   "cell_type": "code",
   "execution_count": 67,
   "metadata": {},
   "outputs": [
    {
     "name": "stdout",
     "output_type": "stream",
     "text": [
      "<class 'pandas.core.series.Series'>\n",
      "Int64Index: 4446965 entries, 0 to 4446965\n",
      "Series name: winPlacePerc\n",
      "Non-Null Count    Dtype\n",
      "--------------    -----\n",
      "4446965 non-null  int32\n",
      "dtypes: int32(1)\n",
      "memory usage: 50.9 MB\n"
     ]
    }
   ],
   "source": [
    "y_tr_all.info()"
   ]
  },
  {
   "cell_type": "code",
   "execution_count": 70,
   "metadata": {},
   "outputs": [
    {
     "data": {
      "text/plain": [
       "0    4319392\n",
       "1     127573\n",
       "Name: winPlacePerc, dtype: int64"
      ]
     },
     "execution_count": 70,
     "metadata": {},
     "output_type": "execute_result"
    }
   ],
   "source": [
    "y_tr_all.value_counts()"
   ]
  },
  {
   "cell_type": "code",
   "execution_count": 71,
   "metadata": {},
   "outputs": [],
   "source": [
    "X_train,X_test,y_train,y_test = train_test_split(X_tr_all, y_tr_all, random_state=33, test_size = 0.2)"
   ]
  },
  {
   "cell_type": "code",
   "execution_count": 72,
   "metadata": {},
   "outputs": [
    {
     "name": "stdout",
     "output_type": "stream",
     "text": [
      "<class 'pandas.core.series.Series'>\n",
      "Int64Index: 3557572 entries, 2613096 to 1989652\n",
      "Series name: winPlacePerc\n",
      "Non-Null Count    Dtype\n",
      "--------------    -----\n",
      "3557572 non-null  int32\n",
      "dtypes: int32(1)\n",
      "memory usage: 40.7 MB\n"
     ]
    }
   ],
   "source": [
    "y_train.info()"
   ]
  },
  {
   "cell_type": "code",
   "execution_count": 86,
   "metadata": {},
   "outputs": [
    {
     "data": {
      "text/plain": [
       "array([0.00737101, 0.02184044, 0.        , ..., 0.01015954, 0.00195312,\n",
       "       0.01015954])"
      ]
     },
     "execution_count": 86,
     "metadata": {},
     "output_type": "execute_result"
    }
   ],
   "source": [
    "model = DecisionTreeClassifier()\n",
    "model = model.fit(X_train,y_train)\n",
    "pred = model.predict_proba(X_test)[:,1]\n",
    "pred"
   ]
  },
  {
   "cell_type": "code",
   "execution_count": 85,
   "metadata": {},
   "outputs": [
    {
     "data": {
      "text/plain": [
       "(array([0.00737101, 0.02184044, 0.        , ..., 0.01015954, 0.00195312,\n",
       "        0.01015954]),\n",
       " 2579961    0\n",
       " 2025855    0\n",
       " 2081019    0\n",
       " 625211     0\n",
       " 2944871    0\n",
       " Name: winPlacePerc, dtype: int32)"
      ]
     },
     "execution_count": 85,
     "metadata": {},
     "output_type": "execute_result"
    }
   ],
   "source": [
    "pred[:,1],y_test.head()"
   ]
  },
  {
   "cell_type": "code",
   "execution_count": 89,
   "metadata": {},
   "outputs": [
    {
     "data": {
      "text/plain": [
       "numpy.ndarray"
      ]
     },
     "execution_count": 89,
     "metadata": {},
     "output_type": "execute_result"
    }
   ],
   "source": [
    "type( y_test.values )"
   ]
  },
  {
   "cell_type": "code",
   "execution_count": 90,
   "metadata": {},
   "outputs": [
    {
     "name": "stdout",
     "output_type": "stream",
     "text": [
      "MAE :  0.047060624884740804\n"
     ]
    }
   ],
   "source": [
    "print(\"MAE : \",mean_absolute_error(y_test.values,pred))"
   ]
  },
  {
   "cell_type": "code",
   "execution_count": null,
   "metadata": {},
   "outputs": [],
   "source": []
  }
 ],
 "metadata": {
  "kernelspec": {
   "display_name": "Python 3.9.12 ('base')",
   "language": "python",
   "name": "python3"
  },
  "language_info": {
   "codemirror_mode": {
    "name": "ipython",
    "version": 3
   },
   "file_extension": ".py",
   "mimetype": "text/x-python",
   "name": "python",
   "nbconvert_exporter": "python",
   "pygments_lexer": "ipython3",
   "version": "3.9.12"
  },
  "orig_nbformat": 4,
  "vscode": {
   "interpreter": {
    "hash": "07ff95837247c07dfe1cb10a6a6e0c9e72b87049c975e9712a2b827e2f834a04"
   }
  }
 },
 "nbformat": 4,
 "nbformat_minor": 2
}
